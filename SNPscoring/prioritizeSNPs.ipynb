{
 "cells": [
  {
   "cell_type": "code",
   "execution_count": 1,
   "metadata": {},
   "outputs": [],
   "source": [
    "import numpy as np\n",
    "import pandas as pd\n",
    "import os\n",
    "import sys\n",
    "\n",
    "os.chdir('/wynton/home/corces/allan/MPRAModel')\n",
    "sys.path.append('/wynton/home/corces/allan/MPRAModel/utils')\n",
    "sys.path.append('/wynton/home/corces/allan/MPRAModel/MPRA_data_analysis')\n"
   ]
  },
  {
   "cell_type": "code",
   "execution_count": null,
   "metadata": {},
   "outputs": [],
   "source": []
  }
 ],
 "metadata": {
  "kernelspec": {
   "display_name": "Python 3.8.12 ('MPRAModel')",
   "language": "python",
   "name": "python3"
  },
  "language_info": {
   "codemirror_mode": {
    "name": "ipython",
    "version": 3
   },
   "file_extension": ".py",
   "mimetype": "text/x-python",
   "name": "python",
   "nbconvert_exporter": "python",
   "pygments_lexer": "ipython3",
   "version": "3.8.12"
  },
  "orig_nbformat": 4,
  "vscode": {
   "interpreter": {
    "hash": "df1c0218e8f73ceddc6eb3c560e569fcfdef99e8421fcdb51011b924738bcb98"
   }
  }
 },
 "nbformat": 4,
 "nbformat_minor": 2
}
